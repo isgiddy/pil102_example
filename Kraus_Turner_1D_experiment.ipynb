{
 "cells": [
  {
   "cell_type": "markdown",
   "metadata": {},
   "source": [
    "# How the atmosphere mixing the ocean surface boundary layer\n",
    "I. Giddy 2023\n",
    "Adapted from Ilker Fer.\n",
    "\n",
    "More details on the model:\n",
    "Kraus EB, Turner JS (1966) A one-dimensional model of the seasonal thermocline. Tellus 19:88–97\n",
    "\n",
    "If not running on Binder.org, this code is dependent on numpy, matplotlib, and pandas. "
   ]
  },
  {
   "cell_type": "markdown",
   "metadata": {},
   "source": [
    "\n",
    "This assignment is about the upper ocean, particularly the mixed layer and the pycnocline below, and its response to different atmospheric forcing. In order to simplify the physics and avoid complexity, one-dimensional (1D, vertical) solutions will be obtained and discussed. \n",
    "\n",
    "We will be using a bulk mixed layer model, the Krauss and Turner bulk mixed layer model, which solves for the depth of the mixed layer and its bulk properties (mixed layer average density, temperature, salinity) based on the net surface buoyancy flux and wind-induced mixing. \n",
    "\n",
    "The intricacies of the model are not the focus of this practical, but if you are interested in a more detailed description see Kraus EB, Turner JS (1966) A one-dimensional model of the seasonal thermocline. Tellus 19:88–97. \n",
    "\n",
    "For the sake of this experiment, we will assume that no horizontal processes are at play. \n"
   ]
  },
  {
   "cell_type": "markdown",
   "metadata": {},
   "source": [
    "### Functions\n",
    "\n",
    "The below functions are used in the practical. Run them before starting. "
   ]
  },
  {
   "cell_type": "code",
   "execution_count": 1,
   "metadata": {},
   "outputs": [],
   "source": [
    "#this makes a generic CTD profile\n",
    "def make_CTDprofile_continuous(NBV=0.015,T0=10,S0=34,H=100):\n",
    "    \"\"\"\n",
    "    %\n",
    "    % profile=make_CTDprofile_continuous(NBV,T0,S0,H)\n",
    "    %\n",
    "    % Generates a CTD profile for given constant buoyancy frequency, NBV (in rad/s),\n",
    "    % starting from top level temperature T0 and salinity S0. \n",
    "    % Output (profile) is consistent with the PWP engine:\n",
    "    %     z: depth +ve downward, (pressure-like)\n",
    "    %     t: temperature\n",
    "    %     s: salinity\n",
    "    %     d: density\n",
    "    % \n",
    "    % Default values:\n",
    "    % NBV=0.015; # rad/s, buoy freq\n",
    "    % T0=10; S0=34; # top level temperature and salinity\n",
    "    % H=100; # total depth\n",
    "    % assumes typical coeff of thermal expansion and haline contraction,\n",
    "    % and a density ratio of -2 \n",
    "    %\n",
    "    % by Ilker Fer, November 2018, for GEOF310 Assignment\n",
    "    % adapted by I. Giddy November 2020 for python\n",
    "    % --------------------\n",
    "    \"\"\"\n",
    "\n",
    "    import numpy as np\n",
    "    import gsw as gsw\n",
    "    import pandas as pd\n",
    "\n",
    "    M=102\n",
    "    dz=H/(M-2)\n",
    "    rho0=gsw.rho(S0,T0,0)\n",
    "    alp=1.5e-4\n",
    "    bet=7.5e-4\n",
    "    Rrho = -2 #density ratio (alpha dT / beta dS)\n",
    "\n",
    "    z=np.arange(0,H,dz)*-1\n",
    "    rho=rho0-(NBV**2/9.81*rho0*z)\n",
    "\n",
    "    T=T0+(-(rho-rho0)/rho0)/(alp*(1-(1/Rrho)))\n",
    "    S=S0 + ((alp*(T-T0)/Rrho)/bet)\n",
    "\n",
    "    d = gsw.rho(S,T,0)  #density referenced to the surface\n",
    "    \n",
    "    # make pandas dataframe \n",
    "    \n",
    "    df = pd.DataFrame({'z':-z,'t':T,'s':S,'d':d})\n",
    "\n",
    "    return df\n"
   ]
  },
  {
   "cell_type": "code",
   "execution_count": 2,
   "metadata": {},
   "outputs": [],
   "source": [
    "# Kraus-Turner Bulk Mixed Layer Model\n",
    "def KrausTurner_engine(STRAT,FORCE,duration,PAR):\n",
    "    \n",
    "    \"\"\"\n",
    "\n",
    "     A function to solve the Krauss Turner bulk layer model based on the \n",
    "     formulations in Olbers, Willebrand and Eden (Ocean Dynamics text book)\n",
    "\n",
    "     Initial stratification, STRAT = \n",
    "                 h0: mixed layer depth\n",
    "             dtop: top layer density\n",
    "             dbot: bottom layer density\n",
    "         TotalDepth: total water depth\n",
    "\n",
    "     Forcing, FORCE = \n",
    "          tau: wind stress, N/m2\n",
    "           FH: net heat flux, W/m2, +ve vertical up, >0 convection; <0 stabilizing\n",
    "        Bpyc: buoyancy flux induced by turbulent mixing in the pycnocline. Turbulent\n",
    "               mixing induces <0, put a negative value or zero\n",
    "     Model PARAMETERS\n",
    "     PAR.r1 = 0.1\n",
    "     PAR.r2 = 0.9\n",
    "     PAR.c = 1\n",
    "\n",
    "     Output returns time evolution of:\n",
    "         time: in days\n",
    "         zML: mixed layer depth\n",
    "          d: mixed layer density\n",
    "\n",
    "     by Ilker Fer, November 2018, for GEOF310 Assignment\n",
    "     adapted by I. Giddy November 2020 for python\n",
    "    \"\"\"\n",
    "    \n",
    "    import numpy as np\n",
    "    \n",
    "    \n",
    "    # Just to convert to formulations in p358 in \n",
    "    # Olbers, Willebrand and Eden (Ocean Dynamics) text book \n",
    "    # Follow notation, \n",
    "    # Buoy flux, letter Q, is positive downward in the ocean\n",
    "    # with Q<0 convection, and Q>0 stable buoy flux (that is turbulence in\n",
    "    # stable stratification induces downward buoy flux\n",
    "    #\n",
    "    #\n",
    "\n",
    "    # prescribed parameters in the model\n",
    "   # r1 = PAR.r1 # fraction of tau dissipated\n",
    "   # r2 = PAR.r2 # fraction of convective Bo dissipated\n",
    "   # c = PAR.c # approx 1, for work done by the wind stress\n",
    "    \n",
    "    r1 = 0.1\n",
    "    r2 = 0.9\n",
    "    c = 1\n",
    "    \n",
    "    # PARAMETERS\n",
    "    rho0=1028 #reference density\n",
    "    rhotop = STRAT.dtop.values[0]\n",
    "    rhobot = STRAT.dbot.values[0]\n",
    "    # Initial mixed layer depth\n",
    "    h0=STRAT.h0.values[0]\n",
    "    D=STRAT.TotalDepth.values[0]\n",
    "\n",
    "    #wind stress in  N/m^2, converted to kinematic:\n",
    "    tau=np.array(FORCE.tau/rho0)\n",
    "    heatflux = np.array(-FORCE.FH) # W/m2, net radiation, converted to Eden's \n",
    "    # heatflux<0 convection; >0 stabilizing\n",
    "    BPYC=np.array(-FORCE.Bpyc) # convert to Eden: buoy flux at the base of ML, turbulent mixing induces downward\n",
    "    # buoy flux. Set to nil or a small +ve (downward) number representative of shear induced\n",
    "    # mixing\n",
    "    \n",
    "    # ------- START --------- #\n",
    "    # convert to buoyancy\n",
    "    b00 = -(9.8/rho0)*(rhotop-rho0)\n",
    "    bst = -(9.8/rho0)*(rhobot-rho0)\n",
    "\n",
    "\n",
    "    dt=900; # time step, s\n",
    "    ti = np.arange(0,duration,dt/(3600*24))\n",
    "    \n",
    "    # In case of constant forcing, generate forcing at all times\n",
    "    # If time variable, interpolate FORCE.time to model time\n",
    "    if 'time' in FORCE.keys():# & (len(tau)>1) :\n",
    "        heatflux = np.interp1(FORCE.time,heatflux,ti)\n",
    "        tau = np.interp1(FORCE.time,tau,ti)\n",
    "        BPYC = np.interp1(FORCE.time,BPYC,ti)\n",
    "    else:\n",
    "        heatflux = np.ones(len(ti))*heatflux\n",
    "        tau = np.ones(len(ti))*tau\n",
    "        BPYC = np.ones(len(ti))*BPYC\n",
    "    ###\n",
    "    \n",
    "    # define arrays to fill\n",
    "    # sign convention for buoy flux, +ve upward\n",
    "    # B>0 convection; B<0 stable\n",
    "\n",
    "    h = [h0]\n",
    "   # h = np.ndarray(len(D))\n",
    "    b0 = [b00]\n",
    "    #h[0]=h0 # thickness of ML   # CHECK THESE\n",
    "    #b0[0]=b00 # buoyancy anomaly in the ML\n",
    "    \n",
    "    \n",
    "\n",
    "    for I in range(1,len(ti)):   #change from 2 to 1 becuase of indexing convention in python\n",
    "\n",
    "        Q0=((9.8*1.5e-4)/(rho0*4000))*heatflux[I-1] # surface buoy flux\n",
    "        Qst = BPYC[I-1] #buoy flux at the base of the pycnocline, turbulent mixing induces <0\n",
    "\n",
    "        windwork = c*(abs(tau[I-1])**(1.5))\n",
    "        if Q0<0: #convection\n",
    "          #  Diss = r1*windwork + r2*(h[I-1]/4)*(abs(Q0)-Q0)    # Dissipation integrated over h\n",
    "            Diss = r1*windwork + r2*(h[I-1]/4)*(abs(Q0)-Q0)    # Dissipation integrated over h\n",
    "        else: #stress only\n",
    "            \n",
    "            Diss = r1*windwork  # Dissipation integrated over h\n",
    "#        \n",
    "    \n",
    "        Qh = (2/h[I-1])*((1-r1)*windwork - (h[I-1]/2)*(((1-(r2/2))*Q0)+(r2/2*abs(Q0))))\n",
    "#\n",
    "        if np.any(Qh) < 0:# stable, Q0>0\n",
    "            h.append(((2*(1-r1)*windwork) / (Qh + (((1-(r2/2))*Q0)+(r2/2*abs(Q0))))))  # work out indexing\n",
    "            dbdt = Q0/h[I-1]\n",
    "            b0.append((b0[I-1]+(dbdt*dt)))\n",
    "#    #         Qh = 0\n",
    "#    #        h(I) = 2*(1-r1)*windwork/Q0; \n",
    "           \n",
    "        else: # deepening\n",
    "            dbdt = (Q0 - Qh)/h[I-1]\n",
    "            b0.append((b0[I-1]+(dbdt*dt)))\n",
    "            dhdt = (Qh - Qst)/(b0[I] - bst)\n",
    "            h.append(((h[I-1]+(dhdt*dt))))\n",
    "        \n",
    "        if np.any(h[I]>D):\n",
    "            h.append(D)\n",
    "\n",
    "    # convert lists to arrays\n",
    "    h=np.array(h)\n",
    "    b0=np.array(b0)\n",
    "            \n",
    "    # convert buoyancy anomaly in the ML to density:\n",
    "    rho =rho0 -(rho0*b0/9.8)\n",
    "#     print(len())\n",
    "    # create a dataframe for outputing\n",
    "    df = pd.DataFrame({'time':ti,\n",
    "                      'zML':h,\n",
    "                      'd':rho})\n",
    "    return df"
   ]
  },
  {
   "cell_type": "markdown",
   "metadata": {},
   "source": [
    "How does the mixed layer respond to different atmospheric forcing? \n",
    "\n",
    "Generate a 2-layer density profile with an initial mixed layer depth of 25 m. Use the python function make_CTDprofile_continuous and average the upper 25 m to one value and the deeper layers to another value. Run for a 15 day duration, and discuss the evolution of mixed layer depth and mixed layer density for different cases.\n",
    "\n",
    "a) weak wind stress and warming (stabilizing heat flux)\n",
    "\n",
    "b) strong wind stress and warming (stabilizing heat flux)\n",
    "\n",
    "c) weak wind stress and convection (destabilizing heat flux)\n",
    "\n",
    "d) strong wind stress and convection (destabilizing heat flux)\n",
    "\n",
    "With each scenario, describe how 1) the mixed layer depth changes, 2) the density changes and 3) what drives these changes\n"
   ]
  },
  {
   "cell_type": "markdown",
   "metadata": {},
   "source": [
    "## Create a CTD profile"
   ]
  },
  {
   "cell_type": "code",
   "execution_count": 3,
   "metadata": {},
   "outputs": [],
   "source": [
    "# make a CTD profile\n",
    "import matplotlib.pyplot as plt\n",
    "\n",
    "df = make_CTDprofile_continuous(NBV=0.015,T0=10,S0=34,H=300)  \n",
    "\n",
    "#let's make a 2-layer profile, 25-m mixed layer\n",
    "\n",
    "import pandas as pd\n",
    "import numpy as np\n",
    "pd.options.mode.chained_assignment = None  # default='warn'\n",
    "\n",
    "hML = 25  # initial mixed layer depth\\\n",
    "\n",
    "ind_top = df.index[np.abs(df.z)<hML]  \n",
    "df.t[ind_top]=np.mean(df.t.iloc[ind_top]) \n",
    "df.s[ind_top]=np.mean(df.s.iloc[ind_top])\n",
    "df.d[ind_top]=np.mean(df.d.iloc[ind_top])\n",
    "\n",
    "ind_bot = df.index[np.abs(df.z)>=hML]\n",
    "\n",
    "df.t[ind_bot]=np.mean(df.t.iloc[ind_bot])\n",
    "df.s[ind_bot]=np.mean(df.s.iloc[ind_bot])\n",
    "df.d[ind_bot]=np.mean(df.d.iloc[ind_bot])\n"
   ]
  },
  {
   "cell_type": "code",
   "execution_count": 4,
   "metadata": {},
   "outputs": [
    {
     "data": {
      "text/plain": [
       "Text(0.5, 0, 'Density')"
      ]
     },
     "execution_count": 4,
     "metadata": {},
     "output_type": "execute_result"
    },
    {
     "data": {
      "image/png": "[encoded data removed]",
      "text/plain": [
       "<Figure size 600x500 with 1 Axes>"
      ]
     },
     "metadata": {},
     "output_type": "display_data"
    }
   ],
   "source": [
    "# visualise your initial profile\n",
    "\n",
    "plt.figure(figsize=[6,5])\n",
    "plt.title('Initial Profile')\n",
    "\n",
    "plt.plot(df.d-1000,df.z,lw='2')\n",
    "plt.ylim(100,0)\n",
    "plt.ylabel('Depth')\n",
    "plt.xlabel('Density')\n"
   ]
  },
  {
   "cell_type": "code",
   "execution_count": 16,
   "metadata": {},
   "outputs": [],
   "source": [
    "#######\n",
    "### Return here and edit this block for each scenario\n",
    "######\n",
    "\n",
    "import pandas as pd\n",
    "import numpy as np\n",
    "\n",
    "FORCE = pd.DataFrame({'FH':0,    #<<< EDIT THIS heat flux - note positive out of the ocean (cooling)\n",
    "                     'tau':0.2,    #<<<< EDIT THIS wind stress\n",
    "                     'fcorio':1e-4},index=[0])\n",
    "\n",
    "# For Kraus and Turner\n",
    "\n",
    "FORCE['Bpyc'] = -1e-8 #  W/kg\n",
    "\n",
    "STRAT = df\n",
    "STRAT['h0'] = hML # initial mixed layer depth\n",
    "STRAT['dtop'] = df.d.iloc[0] # surface density\n",
    "STRAT['dbot'] = df.d.iloc[-1] # density at the bottom of the profile\n",
    "STRAT['TotalDepth'] = np.nanmax(np.abs(df.z))\n",
    "\n",
    "PAR = pd.DataFrame({'r1': 0.1,\n",
    "                    'r2': 0.9,\n",
    "                     'c':1},index=[0])\n",
    "\n",
    "duration = 15"
   ]
  },
  {
   "cell_type": "markdown",
   "metadata": {},
   "source": [
    "## Case 1: Neutral conditions: Buoyancy flux is 0 and wind stress is weak\n",
    "Set tau to 0.05 and FH to 0\n",
    "## Case 2: Stabilising conditions: Buoyancy flux is negative (e.g. occean is warming) and wind stress is weak\n",
    "Set tau to 0.05 and FH to -250\n",
    "## Case 3: Convection: Buoyancy flux is positive (ocean is cooling) and wind stress is weak\n",
    "Set tau to 0.05 and FH to 150\n"
   ]
  },
  {
   "cell_type": "code",
   "execution_count": 17,
   "metadata": {},
   "outputs": [],
   "source": [
    "kt=KrausTurner_engine(STRAT,FORCE,duration,PAR)"
   ]
  },
  {
   "cell_type": "code",
   "execution_count": 18,
   "metadata": {},
   "outputs": [
    {
     "data": {
      "text/plain": [
       "Text(0, 0.5, 'density (kg/m3)')"
      ]
     },
     "execution_count": 18,
     "metadata": {},
     "output_type": "execute_result"
    },
    {
     "data": {
      "image/png": "[encoded data removed]",
      "text/plain": [
       "<Figure size 1000x500 with 2 Axes>"
      ]
     },
     "metadata": {},
     "output_type": "display_data"
    }
   ],
   "source": [
    "fig,ax=plt.subplots(1,2,figsize=[10,5],constrained_layout=True)\n",
    "ax[0].plot(kt.time,kt.zML*-1,lw=2,c='tab:blue')\n",
    "\n",
    "ax[0].set_xlabel('days')\n",
    "ax[0].set_ylabel('MLD (m)')\n",
    "# ax[0].legend()\n",
    "\n",
    "ax[1].plot(kt.time,kt.d-1000,lw=2,c='tab:blue')\n",
    "\n",
    "ax[1].set_xlabel('days')\n",
    "ax[1].set_ylabel('density (kg/m3)')"
   ]
  },
  {
   "cell_type": "code",
   "execution_count": null,
   "metadata": {},
   "outputs": [],
   "source": []
  },
  {
   "cell_type": "code",
   "execution_count": null,
   "metadata": {},
   "outputs": [],
   "source": []
  }
 ],
 "metadata": {
  "kernelspec": {
   "display_name": "Python 3 (ipykernel)",
   "language": "python",
   "name": "python3"
  },
  "language_info": {
   "codemirror_mode": {
    "name": "ipython",
    "version": 3
   },
   "file_extension": ".py",
   "mimetype": "text/x-python",
   "name": "python",
   "nbconvert_exporter": "python",
   "pygments_lexer": "ipython3",
   "version": "3.9.6"
  }
 },
 "nbformat": 4,
 "nbformat_minor": 4
}
